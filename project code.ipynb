{
 "cells": [
  {
   "cell_type": "code",
   "execution_count": 1,
   "metadata": {},
   "outputs": [
    {
     "name": "stdout",
     "output_type": "stream",
     "text": [
      "Starting Spark application\n"
     ]
    },
    {
     "data": {
      "text/html": [
       "<table>\n",
       "<tr><th>ID</th><th>YARN Application ID</th><th>Kind</th><th>State</th><th>Spark UI</th><th>Driver log</th><th>Current session?</th></tr><tr><td>0</td><td>application_1716668527664_0002</td><td>pyspark</td><td>idle</td><td><a target=\"_blank\" href=\"http://ip-172-31-34-194.ec2.internal:20888/proxy/application_1716668527664_0002/\">Link</a></td><td><a target=\"_blank\" href=\"http://ip-172-31-36-106.ec2.internal:8042/node/containerlogs/container_1716668527664_0002_01_000001/livy\">Link</a></td><td>✔</td></tr></table>"
      ],
      "text/plain": [
       "<IPython.core.display.HTML object>"
      ]
     },
     "metadata": {},
     "output_type": "display_data"
    },
    {
     "data": {
      "application/vnd.jupyter.widget-view+json": {
       "model_id": "",
       "version_major": 2,
       "version_minor": 0
      },
      "text/plain": [
       "FloatProgress(value=0.0, bar_style='info', description='Progress:', layout=Layout(height='25px', width='50%'),…"
      ]
     },
     "metadata": {},
     "output_type": "display_data"
    },
    {
     "name": "stdout",
     "output_type": "stream",
     "text": [
      "SparkSession available as 'spark'.\n"
     ]
    },
    {
     "data": {
      "application/vnd.jupyter.widget-view+json": {
       "model_id": "",
       "version_major": 2,
       "version_minor": 0
      },
      "text/plain": [
       "FloatProgress(value=0.0, bar_style='info', description='Progress:', layout=Layout(height='25px', width='50%'),…"
      ]
     },
     "metadata": {},
     "output_type": "display_data"
    }
   ],
   "source": [
    "from pyspark.sql import SparkSession\n",
    "import sys\n",
    "\n",
    "# Get Spark context\n",
    "spark = SparkSession.builder.getOrCreate()\n",
    "sc = spark.sparkContext"
   ]
  },
  {
   "cell_type": "code",
   "execution_count": 2,
   "metadata": {},
   "outputs": [
    {
     "name": "stdout",
     "output_type": "stream",
     "text": [
      "Starting Spark application\n"
     ]
    },
    {
     "data": {
      "text/html": [
       "<table>\n",
       "<tr><th>ID</th><th>YARN Application ID</th><th>Kind</th><th>State</th><th>Spark UI</th><th>Driver log</th><th>Current session?</th></tr><tr><td>1</td><td>application_1716668527664_0003</td><td>pyspark</td><td>idle</td><td><a target=\"_blank\" href=\"http://ip-172-31-34-194.ec2.internal:20888/proxy/application_1716668527664_0003/\">Link</a></td><td><a target=\"_blank\" href=\"http://ip-172-31-36-106.ec2.internal:8042/node/containerlogs/container_1716668527664_0003_01_000001/livy\">Link</a></td><td>✔</td></tr></table>"
      ],
      "text/plain": [
       "<IPython.core.display.HTML object>"
      ]
     },
     "metadata": {},
     "output_type": "display_data"
    },
    {
     "data": {
      "application/vnd.jupyter.widget-view+json": {
       "model_id": "",
       "version_major": 2,
       "version_minor": 0
      },
      "text/plain": [
       "FloatProgress(value=0.0, bar_style='info', description='Progress:', layout=Layout(height='25px', width='50%'),…"
      ]
     },
     "metadata": {},
     "output_type": "display_data"
    },
    {
     "name": "stdout",
     "output_type": "stream",
     "text": [
      "SparkSession available as 'spark'.\n"
     ]
    },
    {
     "data": {
      "text/html": [
       "Current session configs: <tt>{'conf': {'spark.jars.packages': 'com.johnsnowlabs.nlp:spark-nlp_2.12:4.3.1', 'spark.pyspark.python': 'python3', 'spark.pyspark.virtualenv.enabled': 'true', 'spark.pyspark.virtualenv.type': 'native', 'spark.pyspark.virtualenv.bin.path': '/usr/bin/virtualenv'}, 'proxyUser': 'jovyan', 'kind': 'pyspark'}</tt><br>"
      ],
      "text/plain": [
       "<IPython.core.display.HTML object>"
      ]
     },
     "metadata": {},
     "output_type": "display_data"
    },
    {
     "data": {
      "text/html": [
       "<table>\n",
       "<tr><th>ID</th><th>YARN Application ID</th><th>Kind</th><th>State</th><th>Spark UI</th><th>Driver log</th><th>Current session?</th></tr><tr><td>1</td><td>application_1716668527664_0003</td><td>pyspark</td><td>idle</td><td><a target=\"_blank\" href=\"http://ip-172-31-34-194.ec2.internal:20888/proxy/application_1716668527664_0003/\">Link</a></td><td><a target=\"_blank\" href=\"http://ip-172-31-36-106.ec2.internal:8042/node/containerlogs/container_1716668527664_0003_01_000001/livy\">Link</a></td><td>✔</td></tr></table>"
      ],
      "text/plain": [
       "<IPython.core.display.HTML object>"
      ]
     },
     "metadata": {},
     "output_type": "display_data"
    }
   ],
   "source": [
    "%%configure -f\n",
    "{\n",
    "    \"conf\": {\n",
    "        \"spark.jars.packages\": \"com.johnsnowlabs.nlp:spark-nlp_2.12:4.3.1\",\n",
    "        \"spark.pyspark.python\": \"python3\",\n",
    "        \"spark.pyspark.virtualenv.enabled\": \"true\",\n",
    "        \"spark.pyspark.virtualenv.type\":\"native\",\n",
    "        \"spark.pyspark.virtualenv.bin.path\":\"/usr/bin/virtualenv\"\n",
    "    }\n",
    "}"
   ]
  },
  {
   "cell_type": "code",
   "execution_count": 117,
   "metadata": {},
   "outputs": [
    {
     "data": {
      "application/vnd.jupyter.widget-view+json": {
       "model_id": "",
       "version_major": 2,
       "version_minor": 0
      },
      "text/plain": [
       "FloatProgress(value=0.0, bar_style='info', description='Progress:', layout=Layout(height='25px', width='50%'),…"
      ]
     },
     "metadata": {},
     "output_type": "display_data"
    },
    {
     "name": "stdout",
     "output_type": "stream",
     "text": [
      "Collecting matplotlib==3.2.1\n",
      "  Downloading https://files.pythonhosted.org/packages/b2/c2/71fcf957710f3ba1f09088b35776a799ba7dd95f7c2b195ec800933b276b/matplotlib-3.2.1-cp37-cp37m-manylinux1_x86_64.whl (12.4MB)\n",
      "Collecting pyparsing!=2.0.4,!=2.1.2,!=2.1.6,>=2.0.1 (from matplotlib==3.2.1)\n",
      "  Using cached https://files.pythonhosted.org/packages/9d/ea/6d76df31432a0e6fdf81681a895f009a4bb47b3c39036db3e1b528191d52/pyparsing-3.1.2-py3-none-any.whl\n",
      "Requirement already satisfied: python-dateutil>=2.1 in /mnt/tmp/1716669023907-0/lib/python3.7/site-packages (from matplotlib==3.2.1)\n",
      "Requirement already satisfied: numpy>=1.11 in /usr/local/lib64/python3.7/site-packages (from matplotlib==3.2.1)\n",
      "Collecting cycler>=0.10 (from matplotlib==3.2.1)\n",
      "  Using cached https://files.pythonhosted.org/packages/5c/f9/695d6bedebd747e5eb0fe8fad57b72fdf25411273a39791cde838d5a8f51/cycler-0.11.0-py3-none-any.whl\n",
      "Collecting kiwisolver>=1.0.1 (from matplotlib==3.2.1)\n",
      "  Using cached https://files.pythonhosted.org/packages/f9/77/e3046bf19720b22e3e0b7c12e28f6f2c0c18a213fb91a56cea640862270f/kiwisolver-1.4.5-cp37-cp37m-manylinux_2_5_x86_64.manylinux1_x86_64.whl\n",
      "Requirement already satisfied: six>=1.5 in /usr/local/lib/python3.7/site-packages (from python-dateutil>=2.1->matplotlib==3.2.1)\n",
      "Requirement already satisfied: typing-extensions; python_version < \"3.8\" in /mnt/tmp/1716669023907-0/lib/python3.7/site-packages (from kiwisolver>=1.0.1->matplotlib==3.2.1)\n",
      "Installing collected packages: pyparsing, cycler, kiwisolver, matplotlib\n",
      "Successfully installed cycler-0.11.0 kiwisolver-1.4.5 matplotlib-3.2.1 pyparsing-3.1.2"
     ]
    }
   ],
   "source": [
    "# sc.install_pypi_package('Cython==0.29.24', \"https://pypi.org/simple\")\n",
    "# sc.install_pypi_package('pybind11', \"https://pypi.org/simple\")\n",
    "\n",
    "# sc.install_pypi_package('numpy==1.21.6', \"https://pypi.org/simple\")\n",
    "# sc.install_pypi_package('scipy', \"https://pypi.org/simple\")\n",
    "# sc.install_pypi_package('pillow', \"https://pypi.org/simple\")\n",
    "# sc.install_pypi_package('scikit-learn', \"https://pypi.org/simple\")\n",
    "# sc.install_pypi_package('sentence-transformers', \"https://pypi.org/simple\")\n",
    "\n",
    "\n",
    "# sc.install_pypi_package(\"pandas==1.0.5\",\"https://pypi.org/simple\")\n",
    "# sc.install_pypi_package(\"scipy==1.4.1\",\"https://pypi.org/simple\")\n",
    "sc.install_pypi_package(\"matplotlib==3.2.1\",\"https://pypi.org/simple\")\n",
    "# sc.install_pypi_package('spark-nlp',\"https://pypi.org/simple\")\n",
    "# sc.install_pypi_package('spark-sklearn',\"https://pypi.org/simple\")\n",
    "\n"
   ]
  },
  {
   "cell_type": "code",
   "execution_count": 212,
   "metadata": {},
   "outputs": [
    {
     "data": {
      "application/vnd.jupyter.widget-view+json": {
       "model_id": "",
       "version_major": 2,
       "version_minor": 0
      },
      "text/plain": [
       "FloatProgress(value=0.0, bar_style='info', description='Progress:', layout=Layout(height='25px', width='50%'),…"
      ]
     },
     "metadata": {},
     "output_type": "display_data"
    }
   ],
   "source": [
    "from pyspark.ml import Pipeline, PipelineModel, Transformer\n",
    "import time\n",
    "import pyspark.sql.functions as F\n",
    "from pyspark.sql.types import StructType, StructField, IntegerType, StringType, ArrayType, FloatType, DoubleType\n",
    "import sparknlp\n",
    "from sparknlp.pretrained import PretrainedPipeline\n",
    "from sparknlp.annotator import *\n",
    "from sparknlp.common import RegexRule\n",
    "from sparknlp.base import *\n",
    "import numpy as np\n",
    "import re\n",
    "\n",
    "import matplotlib.pyplot as plt\n",
    "\n",
    "from pyspark.ml.feature import VectorAssembler, StopWordsRemover, Word2Vec\n",
    "from pyspark.ml.linalg import Vectors, VectorUDT, DenseVector\n",
    "from pyspark.ml.util import Identifiable\n",
    "from pyspark.ml.tuning import CrossValidatorModel\n",
    "from pyspark.ml.evaluation import BinaryClassificationEvaluator\n",
    "from pyspark.ml.classification import LogisticRegression, RandomForestClassifier\n",
    "from pyspark.ml.feature import VectorAssembler\n",
    "from pyspark.ml.tuning import ParamGridBuilder, CrossValidator\n",
    "from pyspark.ml.evaluation import BinaryClassificationEvaluator\n",
    "import pandas as pd\n",
    "import itertools\n",
    "from sklearn.metrics import confusion_matrix, precision_score, recall_score, f1_score, roc_curve, auc"
   ]
  },
  {
   "cell_type": "markdown",
   "metadata": {},
   "source": [
    "Let's start the pipeline"
   ]
  },
  {
   "cell_type": "markdown",
   "metadata": {},
   "source": [
    "Firstly, I want to create a list of common stop words that include oddities from the data itself (known from previous attempts at cleaning the data."
   ]
  },
  {
   "cell_type": "code",
   "execution_count": 5,
   "metadata": {},
   "outputs": [
    {
     "data": {
      "application/vnd.jupyter.widget-view+json": {
       "model_id": "",
       "version_major": 2,
       "version_minor": 0
      },
      "text/plain": [
       "FloatProgress(value=0.0, bar_style='info', description='Progress:', layout=Layout(height='25px', width='50%'),…"
      ]
     },
     "metadata": {},
     "output_type": "display_data"
    }
   ],
   "source": [
    "# get stop words from PySpark NLP\n",
    "stop_words = set(StopWordsRemover().getStopWords())\n",
    "\n",
    "custom_stopwords = set([\"could've\", \"would've\", \"r\", \"u/\", \"u\", '/u' \"/r\" \"r/\", \"t\", 've', 's', 'm', \n",
    "                        'll', 'nt', 'd', 're', 'n', 'y', 'b', 'p', 'f', 'c', 'e', 'g', \"say\", \"go\", \n",
    "                        'h', 'j', 'k', 'l', 'o', 'q', 'v', 'w', 'x', 'z', 'a', 'i', \"gt\", \"amp\", \"us\",\n",
    "                        \"like\", \"don\", \"just\", \"kinda\", \"want\", \"know\", \"think\", \"dosnt\", \"couldnt\", \"wouldnt\",\n",
    "                        \"get\", \"andor\", \"andme\", \"doesnt\", \"ect\",\"soo\", \"sooo\", \"soooo\", \"sooooo\", \"though\", \"into\"\n",
    "                        \"unto\", \"onto\", \"meanwhile\",\"soooooo\", \"sooooooo\", \"eachother\", \"dont\", \"wont\", \"cant\", \n",
    "                        \"modmail\", \"cuz\", \"andnbsp\", \"los\", \"yoffe\", \"bc\", \"thier\", \"ou\", \"andnbsp\", \"shant\", \"shouldnt\",  \n",
    "                        \"ve\",\"alot\", \"atleast\", \"their\", \"thier\", \"yall\", \"notall\", \"noone\", \"eithe\", \"hai\",\"tion\"])\n",
    "# combine the stop words to one list\n",
    "stop_list = list(stop_words | custom_stopwords)"
   ]
  },
  {
   "cell_type": "code",
   "execution_count": 6,
   "metadata": {},
   "outputs": [
    {
     "data": {
      "application/vnd.jupyter.widget-view+json": {
       "model_id": "",
       "version_major": 2,
       "version_minor": 0
      },
      "text/plain": [
       "FloatProgress(value=0.0, bar_style='info', description='Progress:', layout=Layout(height='25px', width='50%'),…"
      ]
     },
     "metadata": {},
     "output_type": "display_data"
    },
    {
     "name": "stdout",
     "output_type": "stream",
     "text": [
      "DataFrame[author: string, is_adoptee: bigint, full_text: string, subreddit: string, target: string, indirect_target: string, num_comments: double, score: bigint]"
     ]
    }
   ],
   "source": [
    "# load in the data\n",
    "newer_df = spark.read.option(\"inferSchema\", \"true\") \\\n",
    "    .parquet('s3://ethan-kozlowski-project/input.parquet')\n",
    "newer_df.persist()"
   ]
  },
  {
   "cell_type": "markdown",
   "metadata": {},
   "source": [
    "Let's take a little look inside"
   ]
  },
  {
   "cell_type": "code",
   "execution_count": 7,
   "metadata": {},
   "outputs": [
    {
     "data": {
      "application/vnd.jupyter.widget-view+json": {
       "model_id": "",
       "version_major": 2,
       "version_minor": 0
      },
      "text/plain": [
       "FloatProgress(value=0.0, bar_style='info', description='Progress:', layout=Layout(height='25px', width='50%'),…"
      ]
     },
     "metadata": {},
     "output_type": "display_data"
    },
    {
     "name": "stdout",
     "output_type": "stream",
     "text": [
      "root\n",
      " |-- author: string (nullable = true)\n",
      " |-- is_adoptee: long (nullable = true)\n",
      " |-- full_text: string (nullable = true)\n",
      " |-- subreddit: string (nullable = true)\n",
      " |-- target: string (nullable = true)\n",
      " |-- indirect_target: string (nullable = true)\n",
      " |-- num_comments: double (nullable = true)\n",
      " |-- score: long (nullable = true)\n",
      "\n",
      "Number of rows: 299864\n",
      "Number of columns: 8"
     ]
    }
   ],
   "source": [
    "newer_df.printSchema()\n",
    "\n",
    "print(f\"Number of rows: {newer_df.count()}\")\n",
    "print(f\"Number of columns: {len(newer_df.columns)}\")"
   ]
  },
  {
   "cell_type": "markdown",
   "metadata": {},
   "source": [
    "We can see that there are around 300k entries. This includes posts and comments to these posts.  This data has been somewhat precleaned and has posts with missing authors removed. Additionally, the full_text column includes all text available for a post, including the title appended to the front when applicable. Additionally there is information on the subreddit and the subject (target) of the reply/comment. For original posts, the target, author, and indirect_target will all be the same person. "
   ]
  },
  {
   "cell_type": "code",
   "execution_count": 8,
   "metadata": {},
   "outputs": [
    {
     "data": {
      "application/vnd.jupyter.widget-view+json": {
       "model_id": "",
       "version_major": 2,
       "version_minor": 0
      },
      "text/plain": [
       "FloatProgress(value=0.0, bar_style='info', description='Progress:', layout=Layout(height='25px', width='50%'),…"
      ]
     },
     "metadata": {},
     "output_type": "display_data"
    },
    {
     "name": "stdout",
     "output_type": "stream",
     "text": [
      "+---------------+----------+---------------+---------+---------------+---------------+------------+-----+\n",
      "|         author|is_adoptee|      full_text|subreddit|         target|indirect_target|num_comments|score|\n",
      "+---------------+----------+---------------+---------+---------------+---------------+------------+-----+\n",
      "|       Shamaroo|        -1|i have no cl...| Adoption|       Shamaroo|       Shamaroo|        13.0|    6|\n",
      "|       surf_wax|         1|probably not...| Adoption|       Shamaroo|       Shamaroo|        null|    7|\n",
      "|usernamebrai...|        -1|also if your...| Adoption|       surf_wax|       Shamaroo|        null|    3|\n",
      "|   thismoment76|        -1|i know a fam...| Adoption|       surf_wax|       Shamaroo|        null|    2|\n",
      "|       Shamaroo|        -1|hey thanks f...| Adoption|       surf_wax|       Shamaroo|        null|    2|\n",
      "|       surf_wax|         1|yeah i get i...| Adoption|       Shamaroo|       Shamaroo|        null|    4|\n",
      "|   Starrcraters|        -1|you would be...| Adoption|       surf_wax|       Shamaroo|        null|    1|\n",
      "| ThrowawayTink2|        -1|it actually ...| Adoption|       Shamaroo|       Shamaroo|        null|    3|\n",
      "|       ralpher1|        -1|bmom will ne...| Adoption|       Shamaroo|       Shamaroo|        null|    2|\n",
      "|   Starrcraters|        -1|parents do n...| Adoption|       ralpher1|       Shamaroo|        null|    1|\n",
      "|     Likemylife|        -1|if it is thr...| Adoption|       Shamaroo|       Shamaroo|        null|    1|\n",
      "|  AdoptionQandA|        -1|she has fami...| Adoption|       Shamaroo|       Shamaroo|        null|    1|\n",
      "|   Starrcraters|        -1|i worked for...| Adoption|       Shamaroo|       Shamaroo|        null|    1|\n",
      "|   Starrcraters|        -1|remember dhs...| Adoption|   Starrcraters|       Shamaroo|        null|    1|\n",
      "|      xkiwified|        -1|chinese adop...| Adoption|      xkiwified|      xkiwified|        11.0|    7|\n",
      "|the_world-is...|        -1|i have been ...| Adoption|      xkiwified|      xkiwified|        null|    8|\n",
      "|the_world-is...|        -1|i think its ...| Adoption|           null|      xkiwified|        null|    7|\n",
      "|      hintersly|        -1|also a chine...| Adoption|      xkiwified|      xkiwified|        null|    4|\n",
      "|idkwhattoput...|        -1|yeah. i feel...| Adoption|      xkiwified|      xkiwified|        null|    2|\n",
      "|      xkiwified|        -1|i just feel ...| Adoption|idkwhattoput...|      xkiwified|        null|    1|\n",
      "+---------------+----------+---------------+---------+---------------+---------------+------------+-----+\n",
      "only showing top 20 rows"
     ]
    }
   ],
   "source": [
    "newer_df.show(truncate=15)"
   ]
  },
  {
   "cell_type": "code",
   "execution_count": 19,
   "metadata": {},
   "outputs": [
    {
     "data": {
      "application/vnd.jupyter.widget-view+json": {
       "model_id": "",
       "version_major": 2,
       "version_minor": 0
      },
      "text/plain": [
       "FloatProgress(value=0.0, bar_style='info', description='Progress:', layout=Layout(height='25px', width='50%'),…"
      ]
     },
     "metadata": {},
     "output_type": "display_data"
    },
    {
     "name": "stdout",
     "output_type": "stream",
     "text": [
      "pos_anc download started this may take some time.\n",
      "Approximate size to download 3.9 MB\n",
      "[OK!]"
     ]
    }
   ],
   "source": [
    "documentAssembler = DocumentAssembler()\\\n",
    "    .setInputCol(\"full_text\")\\\n",
    "    .setOutputCol(\"document\")\n",
    "\n",
    "# tokenize text\n",
    "tokenizer = Tokenizer() \\\n",
    "    .setInputCols([\"document\"]) \\\n",
    "    .setOutputCol(\"tokens\")\n",
    "\n",
    "# normalize tokens\n",
    "normalizer = Normalizer() \\\n",
    "    .setInputCols([\"tokens\"]) \\\n",
    "    .setOutputCol(\"norm_tokens\")\n",
    "\n",
    "# clean stopwords\n",
    "stopwords_cleaner = StopWordsCleaner() \\\n",
    "    .setInputCols([\"norm_tokens\"]) \\\n",
    "    .setOutputCol(\"clean_tokens\") \\\n",
    "    .setStopWords(stop_list)\n",
    "\n",
    "pos = PerceptronModel.pretrained(\"pos_anc\", 'en')\\\n",
    "        .setInputCols(\"document\", \"clean_tokens\")\\\n",
    "        .setOutputCol(\"pos\")\n",
    "\n",
    "\n",
    "# #  bert embeddings\n",
    "# bert_embeddings = BertEmbeddings.pretrained('bert_base_uncased', 'en') \\\n",
    "#     .setInputCols([\"document\", \"clean_tokens\"]) \\\n",
    "#     .setOutputCol(\"features\") \\\n",
    "#     .setCaseSensitive(False) \\\n",
    "#     .setMaxSentenceLength(512)\n",
    "\n",
    "# # required for classifier DL later\n",
    "# sentence_embeddings = SentenceEmbeddings()\\\n",
    "#     .setInputCols([\"document\", \"features\"])\\\n",
    "#     .setOutputCol(\"sentence_embeddings\")\\\n",
    "#     .setPoolingStrategy(\"AVERAGE\")\n",
    "\n",
    "# # deep learning classifier\n",
    "# classifier_dl = ClassifierDLApproach() \\\n",
    "#     .setInputCols([\"sentence_embeddings\"]) \\\n",
    "#     .setOutputCol(\"pred_cat_is_adoptee\") \\\n",
    "#     .setLabelColumn(\"is_adoptee\") \\\n",
    "#     .setMaxEpochs(5) \\\n",
    "#     .setEnableOutputLogs(True)\n",
    "\n",
    "\n",
    "\n",
    "class TokenCountTransformer(Transformer):\n",
    "    @keyword_only\n",
    "    def __init__(self, inputCol, outputCol):\n",
    "        super(TokenCountTransformer, self).__init__()\n",
    "        self.inputCol = inputCol\n",
    "        self.outputCol = outputCol\n",
    "\n",
    "    def _transform(self, ddf):\n",
    "        # get count of tokens\n",
    "        count_tokens = F.udf(lambda tokens: len(tokens), IntegerType())\n",
    "        return ddf.withColumn(self.outputCol, count_tokens(ddf[self.inputCol]))\n",
    "\n",
    "# count total tokens\n",
    "token_count_transformer = TokenCountTransformer(\n",
    "    inputCol=\"tokens\", \n",
    "    outputCol=\"num_tokens\")\n",
    "\n",
    "# count norm tokens    \n",
    "norm_token_count_transformer = TokenCountTransformer(\n",
    "    inputCol=\"clean_tokens\", \n",
    "    outputCol=\"num_norm_tokens\")\n",
    "\n",
    "\n",
    "finisher = Finisher() \\\n",
    "    .setInputCols([\"clean_tokens\"]) \\\n",
    "    .setOutputCols([\"finished_tokens\"]) \\\n",
    "    .setOutputAsArray(True) \\\n",
    "    .setCleanAnnotations(True)\n",
    "\n",
    "word2Vec = Word2Vec() \\\n",
    "    .setInputCol(\"finished_tokens\") \\\n",
    "    .setOutputCol(\"features\") \\\n",
    "    .setVectorSize(300) \\\n",
    "    .setMinCount(5) \\\n",
    "    .setWindowSize(5) \\\n",
    "    .setSeed(42)\n",
    "\n",
    "\n",
    "vector_pipeline = Pipeline(stages=[\n",
    "    documentAssembler,\n",
    "    tokenizer,\n",
    "    normalizer,\n",
    "    stopwords_cleaner,\n",
    "    pos,\n",
    "    token_count_transformer,\n",
    "    norm_token_count_transformer,\n",
    "#     bert_embeddings,\n",
    "#     sentence_embeddings,\n",
    "#     classifier_dl,\n",
    "    finisher,\n",
    "    word2Vec,\n",
    "])\n"
   ]
  },
  {
   "cell_type": "code",
   "execution_count": 20,
   "metadata": {},
   "outputs": [
    {
     "data": {
      "application/vnd.jupyter.widget-view+json": {
       "model_id": "",
       "version_major": 2,
       "version_minor": 0
      },
      "text/plain": [
       "FloatProgress(value=0.0, bar_style='info', description='Progress:', layout=Layout(height='25px', width='50%'),…"
      ]
     },
     "metadata": {},
     "output_type": "display_data"
    },
    {
     "name": "stdout",
     "output_type": "stream",
     "text": [
      "1241.4394099712372"
     ]
    }
   ],
   "source": [
    "t0 = time.time()\n",
    "feature_df = vector_pipeline.fit(newer_df).transform(newer_df)\n",
    "print(time.time()-t0)"
   ]
  },
  {
   "cell_type": "code",
   "execution_count": 23,
   "metadata": {},
   "outputs": [
    {
     "data": {
      "application/vnd.jupyter.widget-view+json": {
       "model_id": "",
       "version_major": 2,
       "version_minor": 0
      },
      "text/plain": [
       "FloatProgress(value=0.0, bar_style='info', description='Progress:', layout=Layout(height='25px', width='50%'),…"
      ]
     },
     "metadata": {},
     "output_type": "display_data"
    },
    {
     "name": "stdout",
     "output_type": "stream",
     "text": [
      "root\n",
      " |-- author: string (nullable = true)\n",
      " |-- is_adoptee: long (nullable = true)\n",
      " |-- full_text: string (nullable = true)\n",
      " |-- subreddit: string (nullable = true)\n",
      " |-- target: string (nullable = true)\n",
      " |-- indirect_target: string (nullable = true)\n",
      " |-- num_comments: double (nullable = true)\n",
      " |-- score: long (nullable = true)\n",
      " |-- num_tokens: integer (nullable = true)\n",
      " |-- num_norm_tokens: integer (nullable = true)\n",
      " |-- finished_tokens: array (nullable = true)\n",
      " |    |-- element: string (containsNull = true)\n",
      " |-- features: vector (nullable = true)"
     ]
    }
   ],
   "source": [
    "feature_df.printSchema()"
   ]
  },
  {
   "cell_type": "code",
   "execution_count": 24,
   "metadata": {},
   "outputs": [
    {
     "data": {
      "application/vnd.jupyter.widget-view+json": {
       "model_id": "",
       "version_major": 2,
       "version_minor": 0
      },
      "text/plain": [
       "FloatProgress(value=0.0, bar_style='info', description='Progress:', layout=Layout(height='25px', width='50%'),…"
      ]
     },
     "metadata": {},
     "output_type": "display_data"
    },
    {
     "name": "stdout",
     "output_type": "stream",
     "text": [
      "DataFrame[author: string, is_adoptee: bigint, full_text: string, subreddit: string, target: string, indirect_target: string, num_comments: double, score: bigint, num_tokens: int, num_norm_tokens: int, finished_tokens: array<string>, features: vector]"
     ]
    }
   ],
   "source": [
    "feature_df.persist()"
   ]
  },
  {
   "cell_type": "code",
   "execution_count": 26,
   "metadata": {},
   "outputs": [
    {
     "data": {
      "application/vnd.jupyter.widget-view+json": {
       "model_id": "",
       "version_major": 2,
       "version_minor": 0
      },
      "text/plain": [
       "FloatProgress(value=0.0, bar_style='info', description='Progress:', layout=Layout(height='25px', width='50%'),…"
      ]
     },
     "metadata": {},
     "output_type": "display_data"
    },
    {
     "name": "stdout",
     "output_type": "stream",
     "text": [
      "+------+----------+---------+---------+------+---------------+------------+-----+----------+---------------+---------------+--------+\n",
      "|author|is_adoptee|full_text|subreddit|target|indirect_target|num_comments|score|num_tokens|num_norm_tokens|finished_tokens|features|\n",
      "+------+----------+---------+---------+------+---------------+------------+-----+----------+---------------+---------------+--------+\n",
      "+------+----------+---------+---------+------+---------------+------------+-----+----------+---------------+---------------+--------+"
     ]
    }
   ],
   "source": [
    "feature_df.filter(F.col(\"finished_tokens\").isNull()).show()"
   ]
  },
  {
   "cell_type": "code",
   "execution_count": 41,
   "metadata": {},
   "outputs": [
    {
     "data": {
      "application/vnd.jupyter.widget-view+json": {
       "model_id": "",
       "version_major": 2,
       "version_minor": 0
      },
      "text/plain": [
       "FloatProgress(value=0.0, bar_style='info', description='Progress:', layout=Layout(height='25px', width='50%'),…"
      ]
     },
     "metadata": {},
     "output_type": "display_data"
    },
    {
     "name": "stdout",
     "output_type": "stream",
     "text": [
      "DataFrame[author: string, is_adoptee: bigint, num_tokens: bigint, num_norm_tokens: bigint, concatenated_text: string, finished_tokens_list: array<array<string>>, avg_features: vector]"
     ]
    }
   ],
   "source": [
    "# create an new UDF for getting mean of vectors\n",
    "def avg_vectors(vectors):\n",
    "    arr = np.mean(np.array([vec.toArray() for vec in vectors]), axis=0)\n",
    "    return Vectors.dense(arr)\n",
    "\n",
    "avg_vectors_udf = F.udf(avg_vectors, VectorUDT())\n",
    "\n",
    "by_all_user = (\n",
    "    feature_df.groupBy(\"author\")\n",
    "    .agg(\n",
    "        F.max(F.col(\"is_adoptee\")).alias(\"is_adoptee\"),\n",
    "        F.sum(F.col(\"num_tokens\")).alias(\"num_tokens\"),\n",
    "        F.sum(F.col(\"num_norm_tokens\")).alias(\"num_norm_tokens\"),\n",
    "        F.concat_ws(\" \", F.collect_list(F.col(\"full_text\"))).alias(\"concatenated_text\"),\n",
    "        F.collect_list(F.col(\"finished_tokens\")).alias(\"finished_tokens_list\"),\n",
    "        avg_vectors_udf(F.collect_list(F.col(\"features\"))).alias(\"avg_features\")\n",
    "    )\n",
    ")\n",
    "\n",
    "# filter out users whose post history contains fewer than 15 norm tokens and those that are unlabeled\n",
    "important_labeled_users = by_all_user.filter((by_all_user.is_adoptee != -1) & (by_all_user.num_norm_tokens >= 15))\n",
    "important_labeled_users.persist()"
   ]
  },
  {
   "cell_type": "code",
   "execution_count": 42,
   "metadata": {},
   "outputs": [
    {
     "data": {
      "application/vnd.jupyter.widget-view+json": {
       "model_id": "",
       "version_major": 2,
       "version_minor": 0
      },
      "text/plain": [
       "FloatProgress(value=0.0, bar_style='info', description='Progress:', layout=Layout(height='25px', width='50%'),…"
      ]
     },
     "metadata": {},
     "output_type": "display_data"
    },
    {
     "name": "stdout",
     "output_type": "stream",
     "text": [
      "root\n",
      " |-- author: string (nullable = true)\n",
      " |-- is_adoptee: long (nullable = true)\n",
      " |-- num_tokens: long (nullable = true)\n",
      " |-- num_norm_tokens: long (nullable = true)\n",
      " |-- concatenated_text: string (nullable = false)\n",
      " |-- finished_tokens_list: array (nullable = true)\n",
      " |    |-- element: array (containsNull = false)\n",
      " |    |    |-- element: string (containsNull = true)\n",
      " |-- avg_features: vector (nullable = true)"
     ]
    }
   ],
   "source": [
    "important_labeled_users.printSchema()"
   ]
  },
  {
   "cell_type": "code",
   "execution_count": 44,
   "metadata": {
    "scrolled": true
   },
   "outputs": [
    {
     "data": {
      "application/vnd.jupyter.widget-view+json": {
       "model_id": "",
       "version_major": 2,
       "version_minor": 0
      },
      "text/plain": [
       "FloatProgress(value=0.0, bar_style='info', description='Progress:', layout=Layout(height='25px', width='50%'),…"
      ]
     },
     "metadata": {},
     "output_type": "display_data"
    },
    {
     "name": "stdout",
     "output_type": "stream",
     "text": [
      "DataFrame[author: string, is_adoptee: bigint, num_tokens: bigint, num_norm_tokens: bigint, concatenated_text: string, finished_tokens_list: array<array<string>>, avg_features: vector]"
     ]
    }
   ],
   "source": [
    "# train and test split\n",
    "train_df, test_df = important_labeled_users.randomSplit([0.8, 0.2], seed=42)\n",
    "train_df.persist()\n",
    "test_df.persist()"
   ]
  },
  {
   "cell_type": "code",
   "execution_count": 51,
   "metadata": {},
   "outputs": [
    {
     "data": {
      "application/vnd.jupyter.widget-view+json": {
       "model_id": "",
       "version_major": 2,
       "version_minor": 0
      },
      "text/plain": [
       "FloatProgress(value=0.0, bar_style='info', description='Progress:', layout=Layout(height='25px', width='50%'),…"
      ]
     },
     "metadata": {},
     "output_type": "display_data"
    },
    {
     "name": "stdout",
     "output_type": "stream",
     "text": [
      "Test\n",
      "Number of rows: 592\n",
      "Number of columns: 7\n",
      "Train\n",
      "Number of rows: 139\n",
      "Number of columns: 7\n",
      "['author', 'is_adoptee', 'num_tokens', 'num_norm_tokens', 'concatenated_text', 'finished_tokens_list', 'avg_features']"
     ]
    }
   ],
   "source": [
    "print(\"Test\")\n",
    "print(f\"Number of rows: {train_df.count()}\")\n",
    "print(f\"Number of columns: {len(train_df.columns)}\")\n",
    "print(\"Train\")\n",
    "print(f\"Number of rows: {test_df.count()}\")\n",
    "print(f\"Number of columns: {len(test_df.columns)}\")\n",
    "print(test_df.columns)"
   ]
  },
  {
   "cell_type": "code",
   "execution_count": 55,
   "metadata": {},
   "outputs": [
    {
     "data": {
      "application/vnd.jupyter.widget-view+json": {
       "model_id": "",
       "version_major": 2,
       "version_minor": 0
      },
      "text/plain": [
       "FloatProgress(value=0.0, bar_style='info', description='Progress:', layout=Layout(height='25px', width='50%'),…"
      ]
     },
     "metadata": {},
     "output_type": "display_data"
    }
   ],
   "source": [
    "# make the model pipeline too\n",
    "assembler = VectorAssembler(inputCols=[\"avg_features\"], outputCol=\"assembled_features\")\n",
    "\n",
    "\n",
    "# let's try these models\n",
    "lr = LogisticRegression(featuresCol=\"assembled_features\", labelCol=\"is_adoptee\")\n",
    "rf = RandomForestClassifier(featuresCol=\"assembled_features\", labelCol=\"is_adoptee\")\n",
    "\n",
    "# Create pipelines\n",
    "lr_pipeline = Pipeline(stages=[assembler, lr])\n",
    "rf_pipeline = Pipeline(stages=[assembler, rf])\n",
    "\n",
    "\n",
    "# Define parameter grids\n",
    "lr_param_grid = (ParamGridBuilder()\n",
    "                 .addGrid(lr.regParam, [0.01, 0.1, 1.0])\n",
    "                 .addGrid(lr.elasticNetParam, [0.0, 0.5, 1.0])\n",
    "                 .build())\n",
    "\n",
    "rf_param_grid = (ParamGridBuilder()\n",
    "                 .addGrid(rf.numTrees, [10, 50, 100])\n",
    "                 .addGrid(rf.maxDepth, [5, 10, 15, 20, 25])\n",
    "                 .build())\n",
    "\n",
    "evaluator = BinaryClassificationEvaluator(labelCol=\"is_adoptee\",rawPredictionCol=\"rawPrediction\", metricName=\"areaUnderROC\")"
   ]
  },
  {
   "cell_type": "code",
   "execution_count": 56,
   "metadata": {},
   "outputs": [
    {
     "data": {
      "application/vnd.jupyter.widget-view+json": {
       "model_id": "",
       "version_major": 2,
       "version_minor": 0
      },
      "text/plain": [
       "FloatProgress(value=0.0, bar_style='info', description='Progress:', layout=Layout(height='25px', width='50%'),…"
      ]
     },
     "metadata": {},
     "output_type": "display_data"
    }
   ],
   "source": [
    "lr_cv = CrossValidator(estimator=lr_pipeline,\n",
    "                       estimatorParamMaps=lr_param_grid,\n",
    "                       evaluator=evaluator,\n",
    "                       numFolds=5)\n",
    "\n",
    "rf_cv = CrossValidator(estimator=rf_pipeline,\n",
    "                       estimatorParamMaps=rf_param_grid,\n",
    "                       evaluator=evaluator,\n",
    "                       numFolds=5)"
   ]
  },
  {
   "cell_type": "code",
   "execution_count": 57,
   "metadata": {},
   "outputs": [
    {
     "data": {
      "application/vnd.jupyter.widget-view+json": {
       "model_id": "",
       "version_major": 2,
       "version_minor": 0
      },
      "text/plain": [
       "FloatProgress(value=0.0, bar_style='info', description='Progress:', layout=Layout(height='25px', width='50%'),…"
      ]
     },
     "metadata": {},
     "output_type": "display_data"
    },
    {
     "name": "stdout",
     "output_type": "stream",
     "text": [
      "3275.8697929382324"
     ]
    }
   ],
   "source": [
    "# Train models with cross-validation\n",
    "t0 = time.time()\n",
    "lr_cv_model = lr_cv.fit(train_df)\n",
    "rf_cv_model = rf_cv.fit(train_df)\n",
    "print(time.time() - t0)"
   ]
  },
  {
   "cell_type": "markdown",
   "metadata": {},
   "source": [
    "# evaluate models"
   ]
  },
  {
   "cell_type": "code",
   "execution_count": 65,
   "metadata": {},
   "outputs": [
    {
     "data": {
      "application/vnd.jupyter.widget-view+json": {
       "model_id": "",
       "version_major": 2,
       "version_minor": 0
      },
      "text/plain": [
       "FloatProgress(value=0.0, bar_style='info', description='Progress:', layout=Layout(height='25px', width='50%'),…"
      ]
     },
     "metadata": {},
     "output_type": "display_data"
    },
    {
     "name": "stdout",
     "output_type": "stream",
     "text": [
      "Logistic Regression AUC: 0.9134751773049646\n",
      "Random Forest AUC: 0.8955082742316784"
     ]
    }
   ],
   "source": [
    "# Evaluate logistic regression model\n",
    "lr_preds = lr_cv_model.transform(test_df)\n",
    "lr_auc = evaluator.evaluate(lr_preds)\n",
    "print(f\"Logistic Regression AUC: {lr_auc}\")\n",
    "print(f\"Random Forest AUC: {rf_auc}\")\n",
    "# Evaluate random forest model\n",
    "rf_preds = rf_cv_model.transform(test_df)\n",
    "rf_auc = evaluator.evaluate(rf_preds)"
   ]
  },
  {
   "cell_type": "code",
   "execution_count": 67,
   "metadata": {},
   "outputs": [
    {
     "data": {
      "application/vnd.jupyter.widget-view+json": {
       "model_id": "",
       "version_major": 2,
       "version_minor": 0
      },
      "text/plain": [
       "FloatProgress(value=0.0, bar_style='info', description='Progress:', layout=Layout(height='25px', width='50%'),…"
      ]
     },
     "metadata": {},
     "output_type": "display_data"
    }
   ],
   "source": [
    "lr_cv_model.save(\"s3://ethan-kozlowski-project/lr_best_model\")\n",
    "rf_cv_model.save(\"s3://ethan-kozlowski-project/rf_best_model\")"
   ]
  },
  {
   "cell_type": "code",
   "execution_count": 127,
   "metadata": {},
   "outputs": [],
   "source": [
    "%matplotlib inline"
   ]
  },
  {
   "cell_type": "code",
   "execution_count": 228,
   "metadata": {},
   "outputs": [
    {
     "data": {
      "application/vnd.jupyter.widget-view+json": {
       "model_id": "",
       "version_major": 2,
       "version_minor": 0
      },
      "text/plain": [
       "FloatProgress(value=0.0, bar_style='info', description='Progress:', layout=Layout(height='25px', width='50%'),…"
      ]
     },
     "metadata": {},
     "output_type": "display_data"
    }
   ],
   "source": [
    "import pandas as pd\n",
    "import numpy as np\n",
    "import matplotlib.pyplot as plt\n",
    "from sklearn.metrics import roc_curve, auc\n",
    "\n",
    "def get_plots(preds, model_auc):\n",
    "    df = preds.toPandas()\n",
    "\n",
    "    # con mat\n",
    "    con_mat = pd.crosstab(df['is_adoptee'], df['prediction'], rownames=['is_adoptee'], colnames=['prediction'])\n",
    "\n",
    "    # subplots\n",
    "    fig, ax = plt.subplots(1, 2, figsize=(16, 6))\n",
    "\n",
    "    # Plot con mat\n",
    "    cax = ax[0].matshow(con_mat, cmap='YlOrBr')\n",
    "    ax[0].set_title('Confusion Matrix')\n",
    "    ax[0].set_xlabel('Predicted')\n",
    "    ax[0].set_ylabel('Actual')\n",
    "    labels = [\"Non-Adoptee\", \"Adoptee\"]\n",
    "    ax[0].set_xticks([0, 1])\n",
    "    ax[0].set_xticklabels(labels)\n",
    "    ax[0].set_yticks([0, 1])\n",
    "    ax[0].set_yticklabels(labels)\n",
    "    ax[0].xaxis.set_label_position('bottom')\n",
    "    ax[0].xaxis.tick_bottom()\n",
    "\n",
    "    # Add labels\n",
    "    for (i, j), val in np.ndenumerate(con_mat.values):\n",
    "        ax[0].text(j, i, f'{val}', ha='center', va='center', color='black')\n",
    "\n",
    "    fig.colorbar(cax, ax=ax[0])\n",
    "\n",
    "    # Get FPR and TPR for ROC\n",
    "    fpr, tpr, _ = roc_curve(df[\"is_adoptee\"], df[\"prediction\"])\n",
    "\n",
    "    # Plot ROC AUC curve\n",
    "    ax[1].plot(fpr, tpr, color='darkorange', lw=2, label=f'ROC curve (area = {model_auc:.2f})')\n",
    "    ax[1].plot([0, 1], [0, 1], color='navy', lw=2, linestyle='--')\n",
    "    ax[1].set_xlim([0.0, 1.0])\n",
    "    ax[1].set_ylim([0.0, 1.01])\n",
    "    ax[1].set_xlabel('False Positive Rate')\n",
    "    ax[1].set_ylabel('True Positive Rate')\n",
    "    ax[1].set_title('ROC - Adoptees and Non Adoptees')\n",
    "    ax[1].legend(loc=\"lower right\")\n",
    "\n",
    "    plt.tight_layout()\n",
    "    plt.show()\n",
    "    \n",
    "    return con_mat\n"
   ]
  },
  {
   "cell_type": "code",
   "execution_count": 229,
   "metadata": {},
   "outputs": [
    {
     "data": {
      "application/vnd.jupyter.widget-view+json": {
       "model_id": "",
       "version_major": 2,
       "version_minor": 0
      },
      "text/plain": [
       "FloatProgress(value=0.0, bar_style='info', description='Progress:', layout=Layout(height='25px', width='50%'),…"
      ]
     },
     "metadata": {},
     "output_type": "display_data"
    },
    {
     "data": {
      "image/png": "[encoded data removed]",
      "text/plain": [
       "<IPython.core.display.Image object>"
      ]
     },
     "metadata": {},
     "output_type": "display_data"
    }
   ],
   "source": [
    "get_plots(rf_preds, rf_auc)\n",
    "%matplot plt"
   ]
  },
  {
   "cell_type": "code",
   "execution_count": 230,
   "metadata": {},
   "outputs": [
    {
     "data": {
      "application/vnd.jupyter.widget-view+json": {
       "model_id": "",
       "version_major": 2,
       "version_minor": 0
      },
      "text/plain": [
       "FloatProgress(value=0.0, bar_style='info', description='Progress:', layout=Layout(height='25px', width='50%'),…"
      ]
     },
     "metadata": {},
     "output_type": "display_data"
    },
    {
     "data": {
      "image/png": "[encoded data removed]",
      "text/plain": [
       "<IPython.core.display.Image object>"
      ]
     },
     "metadata": {},
     "output_type": "display_data"
    }
   ],
   "source": [
    "get_plots(lr_preds, lr_auc)\n",
    "%matplot plt"
   ]
  },
  {
   "cell_type": "code",
   "execution_count": 38,
   "metadata": {},
   "outputs": [
    {
     "data": {
      "application/vnd.jupyter.widget-view+json": {
       "model_id": "",
       "version_major": 2,
       "version_minor": 0
      },
      "text/plain": [
       "FloatProgress(value=0.0, bar_style='info', description='Progress:', layout=Layout(height='25px', width='50%'),…"
      ]
     },
     "metadata": {},
     "output_type": "display_data"
    }
   ],
   "source": [
    "# Save DataFrame to S3 in Parquet format\n",
    "feature_df.write.mode(\"overwrite\").parquet(\"s3://ethan-kozlowski-project/output\")"
   ]
  }
 ],
 "metadata": {
  "kernelspec": {
   "display_name": "PySpark",
   "language": "",
   "name": "pysparkkernel"
  },
  "language_info": {
   "codemirror_mode": {
    "name": "python",
    "version": 3
   },
   "mimetype": "text/x-python",
   "name": "pyspark",
   "pygments_lexer": "python3"
  }
 },
 "nbformat": 4,
 "nbformat_minor": 4
}
