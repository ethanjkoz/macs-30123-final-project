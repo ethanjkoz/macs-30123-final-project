{
 "cells": [
  {
   "cell_type": "markdown",
   "metadata": {},
   "source": [
    "Stuff to star the EMR cluster"
   ]
  },
  {
   "cell_type": "raw",
   "metadata": {
    "vscode": {
     "languageId": "raw"
    }
   },
   "source": [
    "aws emr create-cluster \\\n",
    "    --name \"Spark Cluster\" \\\n",
    "    --release-label \"emr-6.2.0\" \\\n",
    "    --applications Name=Hadoop Name=Hive Name=JupyterEnterpriseGateway Name=JupyterHub Name=Livy Name=Pig Name=Spark Name=Tez \\\n",
    "    --instance-type m5.xlarge \\\n",
    "    --instance-count 7 \\\n",
    "    --use-default-roles \\\n",
    "    --region us-east-1 \\\n",
    "    --ec2-attributes '{\"KeyName\": \"vockey\"}' \\\n",
    "    --configurations '[{\"Classification\": \"jupyter-s3-conf\", \"Properties\": {\"s3.persistence.enabled\": \"true\", \"s3.persistence.bucket\": \"ethan-kozlowski-project\"}},\n",
    "                       {\"Classification\": \"livy-conf\", \"Properties\": {\"livy.server.session.timeout\": \"4h\"}}]'\n"
   ]
  },
  {
   "cell_type": "raw",
   "metadata": {
    "vscode": {
     "languageId": "raw"
    }
   },
   "source": [
    "ssh -i vockey.pem -NL 9443:localhost:9443 hadoop@ec2-52-90-208-62.compute-1.amazonaws.com\n",
    "https://localhost:9443"
   ]
  }
 ],
 "metadata": {
  "kernelspec": {
   "display_name": "macs30123",
   "language": "python",
   "name": "python3"
  },
  "language_info": {
   "codemirror_mode": {
    "name": "ipython",
    "version": 3
   },
   "file_extension": ".py",
   "mimetype": "text/x-python",
   "name": "python",
   "nbconvert_exporter": "python",
   "pygments_lexer": "ipython3",
   "version": "3.9.19"
  }
 },
 "nbformat": 4,
 "nbformat_minor": 2
}
